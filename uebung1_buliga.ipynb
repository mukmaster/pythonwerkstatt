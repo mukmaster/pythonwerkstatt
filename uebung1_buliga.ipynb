{
  "nbformat": 4,
  "nbformat_minor": 0,
  "metadata": {
    "colab": {
      "provenance": [],
      "authorship_tag": "ABX9TyMTEeRSLON4bOBvBAUrdC6g",
      "include_colab_link": true
    },
    "kernelspec": {
      "name": "python3",
      "display_name": "Python 3"
    },
    "language_info": {
      "name": "python"
    }
  },
  "cells": [
    {
      "cell_type": "markdown",
      "metadata": {
        "id": "view-in-github",
        "colab_type": "text"
      },
      "source": [
        "<a href=\"https://colab.research.google.com/github/mukmaster/pythonwerkstatt/blob/main/uebung1_buliga.ipynb\" target=\"_parent\"><img src=\"https://colab.research.google.com/assets/colab-badge.svg\" alt=\"Open In Colab\"/></a>"
      ]
    },
    {
      "cell_type": "markdown",
      "source": [
        "# Übungsblatt 1 - Bundesliga"
      ],
      "metadata": {
        "id": "XwQlRrT86-KT"
      }
    },
    {
      "cell_type": "code",
      "execution_count": null,
      "metadata": {
        "id": "To69udPk65JH"
      },
      "outputs": [],
      "source": [
        "buliga = [\n",
        "    [2014,1,\"FC Bayern München\",71,90],\n",
        "    [2014,2,\"Borussia Dortmund\",42,71],\n",
        "    [2014,3,\"FC Schalke 04\",20,64],\n",
        "    [2014,4,\"Bayer Leverkusen\",19,61],\n",
        "    [2014,5,\"VfL Wolfsburg\",13,60],\n",
        "    [2014,6,\"Borussia Mönchengladbach\",16,55],\n",
        "    [2014,7,\"1. FSV Mainz 05\",-2,53],\n",
        "    [2014,8,\"FC Augsburg\",0,52],\n",
        "    [2014,9,\"1899 Hoffenheim\",2,44],\n",
        "    [2014,10,\"Hannover 96\",-13,42],\n",
        "    [2014,11,\"Hertha BSC\",-8,41],\n",
        "    [2014,12,\"SV Werder Bremen\",-24,39],\n",
        "    [2014,13,\"Eintracht Frankfurt\",-17,36],\n",
        "    [2014,14,\"SC Freiburg\",-18,36],\n",
        "    [2014,15,\"VfB Stuttgart\",-13,32],\n",
        "    [2014,16,\"Hamburger SV\",-24,27],\n",
        "    [2014,17,\"1. FC Nürnberg\",-33,26],\n",
        "    [2014,18,\"Eintracht Braunschweig\",-31,25],\n",
        "    [2013,1,\"FC Bayern München\",80,91],\n",
        "    [2013,2,\"Borussia Dortmund\",39,66],\n",
        "    [2013,3,\"Bayer Leverkusen\",26,65],\n",
        "    [2013,4,\"FC Schalke 04\",8,55],\n",
        "    [2013,5,\"SC Freiburg\",5,51],\n",
        "    [2013,6,\"Eintracht Frankfurt\",3,51],\n",
        "    [2013,7,\"Hamburger SV\",-11,48],\n",
        "    [2013,8,\"Borussia Mönchengladbach\",-4,47],\n",
        "    [2013,9,\"Hannover 96\",-2,45],\n",
        "    [2013,10,\"1. FC Nürnberg\",-8,44],\n",
        "    [2013,11,\"VfL Wolfsburg\",-5,43],\n",
        "    [2013,12,\"VfB Stuttgart\",-18,43],\n",
        "    [2013,13,\"1. FSV Mainz 05\",-2,42],\n",
        "    [2013,14,\"SV Werder Bremen\",-16,34],\n",
        "    [2013,15,\"FC Augsburg\",-18,33],\n",
        "    [2013,16,\"1899 Hoffenheim\",-25,31],\n",
        "    [2013,17,\"Fortuna Düsseldorf\",-18,30],\n",
        "    [2013,18,\"SpVgg Greuther Fürth\",-34,21],\n",
        "    [2012,1,\"Borussia Dortmund\",55,81],\n",
        "    [2012,2,\"FC Bayern München\",55,73],\n",
        "    [2012,3,\"FC Schalke 04\",30,64],\n",
        "    [2012,4,\"Borussia Mönchengladbach\",25,60],\n",
        "    [2012,5,\"Bayer Leverkusen\",8,54],\n",
        "    [2012,6,\"VfB Stuttgart\",17,53],\n",
        "    [2012,7,\"Hannover 96\",-4,48],\n",
        "    [2012,8,\"VfL Wolfsburg\",-13,44],\n",
        "    [2012,9,\"SV Werder Bremen\",-9,42],\n",
        "    [2012,10,\"1. FC Nürnberg\",-11,42],\n",
        "    [2012,11,\"1899 Hoffenheim\",-6,41],\n",
        "    [2012,12,\"SC Freiburg\",-16,40],\n",
        "    [2012,13,\"1. FSV Mainz 05\",-4,39],\n",
        "    [2012,14,\"FC Augsburg\",-13,38],\n",
        "    [2012,15,\"Hamburger SV\",-22,36],\n",
        "    [2012,16,\"Hertha BSC\",-26,31],\n",
        "    [2012,17,\"1. FC Köln\",-36,30],\n",
        "    [2012,18,\"1. FC Kaiserslautern\",-30,23],\n",
        "    [2011,1,\"Borussia Dortmund\",45,75],\n",
        "    [2011,2,\"Bayer Leverkusen\",20,68],\n",
        "    [2011,3,\"FC Bayern München\",41,65],\n",
        "    [2011,4,\"Hannover 96\",4,60],\n",
        "    [2011,5,\"1. FSV Mainz 05\",13,58],\n",
        "    [2011,6,\"1. FC Nürnberg\",2,47],\n",
        "    [2011,7,\"1. FC Kaiserslautern\",-3,46],\n",
        "    [2011,8,\"Hamburger SV\",-6,45],\n",
        "    [2011,9,\"SC Freiburg\",-9,44],\n",
        "    [2011,10,\"1. FC Köln\",-15,44],\n",
        "    [2011,11,\"1899 Hoffenheim\",0,43],\n",
        "    [2011,12,\"VfB Stuttgart\",1,42],\n",
        "    [2011,13,\"SV Werder Bremen\",-14,41],\n",
        "    [2011,14,\"FC Schalke 04\",-6,40],\n",
        "    [2011,15,\"VfL Wolfsburg\",-5,38],\n",
        "    [2011,16,\"Borussia Mönchengladbach\",-17,36],\n",
        "    [2011,17,\"Eintracht Frankfurt\",-18,34],\n",
        "    [2011,18,\"FC St. Pauli\",-33,29],\n",
        "    [2010,1,\"FC Bayern München\",41,70],\n",
        "    [2010,2,\"FC Schalke 04\",22,65],\n",
        "    [2010,3,\"SV Werder Bremen\",31,61],\n",
        "    [2010,4,\"Bayer Leverkusen\",27,59],\n",
        "    [2010,5,\"Borussia Dortmund\",12,57],\n",
        "    [2010,6,\"VfB Stuttgart\",10,55],\n",
        "    [2010,7,\"Hamburger SV\",15,52],\n",
        "    [2010,8,\"VfL Wolfsburg\",6,50],\n",
        "    [2010,9,\"1. FSV Mainz 05\",-6,47],\n",
        "    [2010,10,\"Eintracht Frankfurt\",-7,46],\n",
        "    [2010,11,\"1899 Hoffenheim\",2,42],\n",
        "    [2010,12,\"Borussia Mönchengladbach\",-17,39],\n",
        "    [2010,13,\"1. FC Köln\",-9,38],\n",
        "    [2010,14,\"SC Freiburg\",-24,35],\n",
        "    [2010,15,\"Hannover 96\",-24,33],\n",
        "    [2010,16,\"1. FC Nürnberg\",-26,31],\n",
        "    [2010,17,\"VfL Bochum\",-31,28],\n",
        "    [2010,18,\"Hertha BSC\",-22,2]\n",
        "]"
      ]
    },
    {
      "cell_type": "code",
      "source": [
        "print(buliga[17])"
      ],
      "metadata": {
        "colab": {
          "base_uri": "https://localhost:8080/"
        },
        "id": "JIOpm2RQ71cA",
        "outputId": "547fa83b-980b-41a9-a270-27ae98cf59c3"
      },
      "execution_count": null,
      "outputs": [
        {
          "output_type": "stream",
          "name": "stdout",
          "text": [
            "[2014, 18, 'Eintracht Braunschweig', -31, 25]\n"
          ]
        }
      ]
    },
    {
      "cell_type": "code",
      "source": [
        "print(len(buliga))"
      ],
      "metadata": {
        "colab": {
          "base_uri": "https://localhost:8080/"
        },
        "id": "3PogweP78SQQ",
        "outputId": "27294122-252f-4f35-ba26-c07eb11bc4e2"
      },
      "execution_count": null,
      "outputs": [
        {
          "output_type": "stream",
          "name": "stdout",
          "text": [
            "90\n"
          ]
        }
      ]
    },
    {
      "cell_type": "code",
      "source": [
        "print(buliga[-1][2])"
      ],
      "metadata": {
        "colab": {
          "base_uri": "https://localhost:8080/"
        },
        "id": "dkeXPEKm8sOC",
        "outputId": "218ad3b3-71b1-4870-df99-14a83dc9b1c8"
      },
      "execution_count": null,
      "outputs": [
        {
          "output_type": "stream",
          "name": "stdout",
          "text": [
            "Hertha BSC\n"
          ]
        }
      ]
    },
    {
      "cell_type": "code",
      "source": [],
      "metadata": {
        "id": "ce3Z0Mnn-Fa1"
      },
      "execution_count": null,
      "outputs": []
    },
    {
      "cell_type": "code",
      "source": [
        "print(buliga[-3:])"
      ],
      "metadata": {
        "colab": {
          "base_uri": "https://localhost:8080/"
        },
        "id": "5zPI1Nhy9hLK",
        "outputId": "71859a2e-e5ea-40b0-9ab4-e33cdb221aa8"
      },
      "execution_count": null,
      "outputs": [
        {
          "output_type": "stream",
          "name": "stdout",
          "text": [
            "[[2010, 16, '1. FC Nürnberg', -26, 31], [2010, 17, 'VfL Bochum', -31, 28], [2010, 18, 'Hertha BSC', -22, 2]]\n"
          ]
        }
      ]
    },
    {
      "cell_type": "code",
      "source": [
        "print(buliga[0::18])"
      ],
      "metadata": {
        "colab": {
          "base_uri": "https://localhost:8080/"
        },
        "id": "J3pHip62-O3D",
        "outputId": "0a3339d0-b8fd-4815-e99c-0e9d5b7ba9f8"
      },
      "execution_count": null,
      "outputs": [
        {
          "output_type": "stream",
          "name": "stdout",
          "text": [
            "[[2014, 1, 'FC Bayern München', 71, 90], [2013, 1, 'FC Bayern München', 80, 91], [2012, 1, 'Borussia Dortmund', 55, 81], [2011, 1, 'Borussia Dortmund', 45, 75], [2010, 1, 'FC Bayern München', 41, 70]]\n"
          ]
        }
      ]
    },
    {
      "cell_type": "code",
      "source": [
        "for meister in buliga[0::18]:\n",
        "  print(meister[0],meister[2])"
      ],
      "metadata": {
        "colab": {
          "base_uri": "https://localhost:8080/"
        },
        "id": "1HAvADdg-rzL",
        "outputId": "0f5aca67-b3ff-4b8b-f8aa-39127edd8225"
      },
      "execution_count": null,
      "outputs": [
        {
          "output_type": "stream",
          "name": "stdout",
          "text": [
            "2014 FC Bayern München\n",
            "2013 FC Bayern München\n",
            "2012 Borussia Dortmund\n",
            "2011 Borussia Dortmund\n",
            "2010 FC Bayern München\n"
          ]
        }
      ]
    },
    {
      "cell_type": "code",
      "source": [
        "zahlen = [1, 4, 8, -1, 10, -2, 5]\n",
        "quadrate = [elem*elem for elem in zahlen if elem>0]\n",
        "print(quadrate)"
      ],
      "metadata": {
        "colab": {
          "base_uri": "https://localhost:8080/"
        },
        "id": "VepSlA8l_GJa",
        "outputId": "e91d3aac-ade3-45f0-a3f3-aeda1779f77c"
      },
      "execution_count": null,
      "outputs": [
        {
          "output_type": "stream",
          "name": "stdout",
          "text": [
            "[1, 16, 64, 100, 25]\n"
          ]
        }
      ]
    },
    {
      "cell_type": "code",
      "source": [
        "nur2012 = [elem for elem in buliga if elem[0]==2012]\n",
        "print(nur2012)"
      ],
      "metadata": {
        "colab": {
          "base_uri": "https://localhost:8080/"
        },
        "id": "xbAfRn4NAUw_",
        "outputId": "c1bcaed8-24ed-40bc-a186-3a4fbe04986f"
      },
      "execution_count": null,
      "outputs": [
        {
          "output_type": "stream",
          "name": "stdout",
          "text": [
            "[[2012, 1, 'Borussia Dortmund', 55, 81], [2012, 2, 'FC Bayern München', 55, 73], [2012, 3, 'FC Schalke 04', 30, 64], [2012, 4, 'Borussia Mönchengladbach', 25, 60], [2012, 5, 'Bayer Leverkusen', 8, 54], [2012, 6, 'VfB Stuttgart', 17, 53], [2012, 7, 'Hannover 96', -4, 48], [2012, 8, 'VfL Wolfsburg', -13, 44], [2012, 9, 'SV Werder Bremen', -9, 42], [2012, 10, '1. FC Nürnberg', -11, 42], [2012, 11, '1899 Hoffenheim', -6, 41], [2012, 12, 'SC Freiburg', -16, 40], [2012, 13, '1. FSV Mainz 05', -4, 39], [2012, 14, 'FC Augsburg', -13, 38], [2012, 15, 'Hamburger SV', -22, 36], [2012, 16, 'Hertha BSC', -26, 31], [2012, 17, '1. FC Köln', -36, 30], [2012, 18, '1. FC Kaiserslautern', -30, 23]]\n"
          ]
        }
      ]
    },
    {
      "cell_type": "code",
      "source": [
        "[elem[2] for elem in buliga if elem[1]<=3]"
      ],
      "metadata": {
        "colab": {
          "base_uri": "https://localhost:8080/"
        },
        "id": "SxdLY9YoBKTd",
        "outputId": "09aa23a6-e5bc-4e02-c2fe-0a89d473fc3f"
      },
      "execution_count": null,
      "outputs": [
        {
          "output_type": "execute_result",
          "data": {
            "text/plain": [
              "['FC Bayern München',\n",
              " 'Borussia Dortmund',\n",
              " 'FC Schalke 04',\n",
              " 'FC Bayern München',\n",
              " 'Borussia Dortmund',\n",
              " 'Bayer Leverkusen',\n",
              " 'Borussia Dortmund',\n",
              " 'FC Bayern München',\n",
              " 'FC Schalke 04',\n",
              " 'Borussia Dortmund',\n",
              " 'Bayer Leverkusen',\n",
              " 'FC Bayern München',\n",
              " 'FC Bayern München',\n",
              " 'FC Schalke 04',\n",
              " 'SV Werder Bremen']"
            ]
          },
          "metadata": {},
          "execution_count": 25
        }
      ]
    },
    {
      "cell_type": "code",
      "source": [
        "set([elem[2] for elem in buliga if elem[1]<=3])"
      ],
      "metadata": {
        "colab": {
          "base_uri": "https://localhost:8080/"
        },
        "id": "4Oz_zbJyBy7s",
        "outputId": "b076c87a-60c2-43be-da1b-c5c78448a6a2"
      },
      "execution_count": null,
      "outputs": [
        {
          "output_type": "execute_result",
          "data": {
            "text/plain": [
              "{'Bayer Leverkusen',\n",
              " 'Borussia Dortmund',\n",
              " 'FC Bayern München',\n",
              " 'FC Schalke 04',\n",
              " 'SV Werder Bremen'}"
            ]
          },
          "metadata": {},
          "execution_count": 26
        }
      ]
    },
    {
      "cell_type": "code",
      "source": [],
      "metadata": {
        "id": "sdG9lyMNCFs0"
      },
      "execution_count": null,
      "outputs": []
    }
  ]
}