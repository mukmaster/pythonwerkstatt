{
  "nbformat": 4,
  "nbformat_minor": 0,
  "metadata": {
    "colab": {
      "provenance": [],
      "authorship_tag": "ABX9TyPvcVPDwDmy58nCVBek1HAn",
      "include_colab_link": true
    },
    "kernelspec": {
      "name": "python3",
      "display_name": "Python 3"
    },
    "language_info": {
      "name": "python"
    }
  },
  "cells": [
    {
      "cell_type": "markdown",
      "metadata": {
        "id": "view-in-github",
        "colab_type": "text"
      },
      "source": [
        "<a href=\"https://colab.research.google.com/github/mukmaster/pythonwerkstatt/blob/main/werkstatt2.ipynb\" target=\"_parent\"><img src=\"https://colab.research.google.com/assets/colab-badge.svg\" alt=\"Open In Colab\"/></a>"
      ]
    },
    {
      "cell_type": "markdown",
      "source": [
        "# Python-Programmierwerkstatt Woche 2 (25.10.2023)"
      ],
      "metadata": {
        "id": "XlCGRbQuaysl"
      }
    },
    {
      "cell_type": "code",
      "source": [
        "2*3"
      ],
      "metadata": {
        "colab": {
          "base_uri": "https://localhost:8080/"
        },
        "id": "AFY19gblbXJw",
        "outputId": "95353658-852c-471b-99c2-f25afd6b4b83"
      },
      "execution_count": null,
      "outputs": [
        {
          "output_type": "execute_result",
          "data": {
            "text/plain": [
              "6"
            ]
          },
          "metadata": {},
          "execution_count": 1
        }
      ]
    },
    {
      "cell_type": "markdown",
      "source": [
        "Besonderheiten von Python\n",
        "\n",
        "\n",
        "*   Interpretation der eingegebenen Codezeilen\n",
        "*   Kein Semikolon\n",
        "*   Zeilenstruktur und Einrückung\n",
        "*   Keine Klammern für Kontrollstrukturen wie if, for, while\n",
        "*   Lockere Typbindung, keine Deklarationen\n",
        "\n",
        "\n"
      ],
      "metadata": {
        "id": "BsFWKBIFkiqc"
      }
    },
    {
      "cell_type": "code",
      "source": [],
      "metadata": {
        "id": "zPoQeu5flJK7"
      },
      "execution_count": null,
      "outputs": []
    },
    {
      "cell_type": "markdown",
      "source": [
        "print-Anweisung zum Ausgeben, Ergebnisse werden sofort angezeigt"
      ],
      "metadata": {
        "id": "i8ShY-NElMo6"
      }
    },
    {
      "cell_type": "code",
      "source": [
        "print(2*3)"
      ],
      "metadata": {
        "colab": {
          "base_uri": "https://localhost:8080/"
        },
        "id": "gX0Ws-VklRJa",
        "outputId": "6e07b40c-9fc2-4b5f-f1f9-be57c169ee31"
      },
      "execution_count": null,
      "outputs": [
        {
          "output_type": "stream",
          "name": "stdout",
          "text": [
            "6\n"
          ]
        }
      ]
    },
    {
      "cell_type": "code",
      "source": [],
      "metadata": {
        "id": "agf53E9KlwWW"
      },
      "execution_count": null,
      "outputs": []
    },
    {
      "cell_type": "markdown",
      "source": [
        "Variablen können einfach neu eingeführt werden. Kein Deklarationszwang, keine Typangaben.\n",
        "**\"Duck Typing\"**"
      ],
      "metadata": {
        "id": "OjJgC1FYl4Bj"
      }
    },
    {
      "cell_type": "code",
      "source": [
        "x = 5\n",
        "print(x)\n",
        "type(x)"
      ],
      "metadata": {
        "colab": {
          "base_uri": "https://localhost:8080/"
        },
        "id": "lw09iIYVl92Q",
        "outputId": "0dc181dc-bfc4-477c-fbd2-ffface4190c6"
      },
      "execution_count": null,
      "outputs": [
        {
          "output_type": "stream",
          "name": "stdout",
          "text": [
            "5\n"
          ]
        },
        {
          "output_type": "execute_result",
          "data": {
            "text/plain": [
              "int"
            ]
          },
          "metadata": {},
          "execution_count": 6
        }
      ]
    },
    {
      "cell_type": "code",
      "source": [
        "y = 10\n",
        "print(type(y))\n",
        "print(y/2)\n",
        "print(type(y/2))\n"
      ],
      "metadata": {
        "colab": {
          "base_uri": "https://localhost:8080/"
        },
        "id": "jsuAmwcxmkiE",
        "outputId": "085c3df4-c1f9-4623-927c-f494f1287f05"
      },
      "execution_count": null,
      "outputs": [
        {
          "output_type": "stream",
          "name": "stdout",
          "text": [
            "<class 'int'>\n",
            "5.0\n",
            "<class 'float'>\n"
          ]
        }
      ]
    },
    {
      "cell_type": "code",
      "source": [
        "y = 9\n",
        "z = y/2\n",
        "print(type(y))\n",
        "print(type(z))"
      ],
      "metadata": {
        "colab": {
          "base_uri": "https://localhost:8080/"
        },
        "id": "UvBmhAdhnMUx",
        "outputId": "cbb58afa-5fa5-4182-fb70-a173d4452b4e"
      },
      "execution_count": null,
      "outputs": [
        {
          "output_type": "stream",
          "name": "stdout",
          "text": [
            "<class 'int'>\n",
            "<class 'float'>\n"
          ]
        }
      ]
    },
    {
      "cell_type": "code",
      "source": [],
      "metadata": {
        "id": "5x_H4BjBn1DI"
      },
      "execution_count": null,
      "outputs": []
    },
    {
      "cell_type": "markdown",
      "source": [
        "# Interessante Datentypen in Python"
      ],
      "metadata": {
        "id": "TZN7G3b9n175"
      }
    },
    {
      "cell_type": "code",
      "source": [],
      "metadata": {
        "id": "LYoqhx7un7AC"
      },
      "execution_count": null,
      "outputs": []
    },
    {
      "cell_type": "markdown",
      "source": [
        "**Listen**\n",
        "In Java: relativ kompliziert ArrayList<Ticket>\n",
        "\n",
        "In Python: unkompliziert, einfach eckige Klammern setzen. Reihenfolge relevant. Elemente gemischten Typs möglich.\n"
      ],
      "metadata": {
        "id": "quCF414UoMCC"
      }
    },
    {
      "cell_type": "code",
      "source": [
        "primzahlen = [ 2, 3, 5, 7, 11, 13, 17]\n",
        "print(primzahlen)"
      ],
      "metadata": {
        "colab": {
          "base_uri": "https://localhost:8080/"
        },
        "id": "RlwXUJqboQU6",
        "outputId": "48d0b806-b80e-48b8-fd45-2932887e1dfc"
      },
      "execution_count": null,
      "outputs": [
        {
          "output_type": "stream",
          "name": "stdout",
          "text": [
            "[2, 3, 5, 7, 11, 13, 17]\n"
          ]
        }
      ]
    },
    {
      "cell_type": "code",
      "source": [],
      "metadata": {
        "id": "ocwIrkh-qoXP"
      },
      "execution_count": null,
      "outputs": []
    },
    {
      "cell_type": "code",
      "source": [
        "kursbeschreibung = [ \"Python Programmierwerstatt\", \"Mittwoch\", \"8:15 Uhr - 9:45 Uhr\", 90, \"online\"]\n"
      ],
      "metadata": {
        "id": "CZ2i-RYWpSkL"
      },
      "execution_count": null,
      "outputs": []
    },
    {
      "cell_type": "markdown",
      "source": [
        "Zugriff über Index, Bereiche können angegeben werden"
      ],
      "metadata": {
        "id": "KzO8NN_tpp6h"
      }
    },
    {
      "cell_type": "code",
      "source": [
        "print(primzahlen[1])\n",
        "print(primzahlen[0])"
      ],
      "metadata": {
        "colab": {
          "base_uri": "https://localhost:8080/"
        },
        "id": "YAXg-JqTpsKc",
        "outputId": "8fc8345b-aa5a-45bf-dba1-e6d14be856d4"
      },
      "execution_count": null,
      "outputs": [
        {
          "output_type": "stream",
          "name": "stdout",
          "text": [
            "3\n",
            "2\n"
          ]
        }
      ]
    },
    {
      "cell_type": "code",
      "source": [
        "print(primzahlen[1:3])"
      ],
      "metadata": {
        "colab": {
          "base_uri": "https://localhost:8080/"
        },
        "id": "mfdektNYqIIH",
        "outputId": "53d2803b-685c-4f7c-bb9c-82707e2470b2"
      },
      "execution_count": null,
      "outputs": [
        {
          "output_type": "stream",
          "name": "stdout",
          "text": [
            "[3, 5]\n"
          ]
        }
      ]
    },
    {
      "cell_type": "code",
      "source": [
        "print(primzahlen[3:])"
      ],
      "metadata": {
        "colab": {
          "base_uri": "https://localhost:8080/"
        },
        "id": "mqaPwDofqpdi",
        "outputId": "5983746b-751a-4f79-f43b-b0c718ed631f"
      },
      "execution_count": null,
      "outputs": [
        {
          "output_type": "stream",
          "name": "stdout",
          "text": [
            "[7, 11, 13, 17]\n"
          ]
        }
      ]
    },
    {
      "cell_type": "code",
      "source": [
        "print(primzahlen[1::2])"
      ],
      "metadata": {
        "colab": {
          "base_uri": "https://localhost:8080/"
        },
        "id": "bdtE3MXYrCj5",
        "outputId": "019bcaa8-1aeb-4904-d8c1-30553ef704e3"
      },
      "execution_count": null,
      "outputs": [
        {
          "output_type": "stream",
          "name": "stdout",
          "text": [
            "[3, 7, 13]\n"
          ]
        }
      ]
    },
    {
      "cell_type": "code",
      "source": [
        "print(primzahlen[::2])"
      ],
      "metadata": {
        "colab": {
          "base_uri": "https://localhost:8080/"
        },
        "id": "NWO3RmUnrm6R",
        "outputId": "7f8693d0-bcf5-4606-b605-d7ba877c2918"
      },
      "execution_count": null,
      "outputs": [
        {
          "output_type": "stream",
          "name": "stdout",
          "text": [
            "[2, 5, 11, 17]\n"
          ]
        }
      ]
    },
    {
      "cell_type": "markdown",
      "source": [
        "# Mengen (set)\n",
        "Wie Liste, aber ungeordnet"
      ],
      "metadata": {
        "id": "BQJXwAbYsfso"
      }
    },
    {
      "cell_type": "code",
      "source": [
        "li = [1,2,3,1,4,3]\n",
        "print(li)\n",
        "me = {1,2,3,1,4,3}\n",
        "print(me)"
      ],
      "metadata": {
        "colab": {
          "base_uri": "https://localhost:8080/"
        },
        "id": "JQRs8yfxsjJi",
        "outputId": "e7e41227-a606-4748-998e-a8ddeb26ee54"
      },
      "execution_count": null,
      "outputs": [
        {
          "output_type": "stream",
          "name": "stdout",
          "text": [
            "[1, 2, 3, 1, 4, 3]\n",
            "{1, 2, 3, 4}\n"
          ]
        }
      ]
    },
    {
      "cell_type": "code",
      "source": [
        "me2 = set(li)\n",
        "print(me2)"
      ],
      "metadata": {
        "colab": {
          "base_uri": "https://localhost:8080/"
        },
        "id": "7jVrCffrt5Ku",
        "outputId": "c06a0be8-4d9d-4360-9cb8-08daa44116bd"
      },
      "execution_count": null,
      "outputs": [
        {
          "output_type": "stream",
          "name": "stdout",
          "text": [
            "{1, 2, 3, 4}\n"
          ]
        }
      ]
    },
    {
      "cell_type": "code",
      "source": [
        "li2 = list(me2)\n",
        "print(li2)"
      ],
      "metadata": {
        "colab": {
          "base_uri": "https://localhost:8080/"
        },
        "id": "0WOqMy5YuSY4",
        "outputId": "93e5d59a-1e0c-4964-c7f9-9412c52f05d7"
      },
      "execution_count": null,
      "outputs": [
        {
          "output_type": "stream",
          "name": "stdout",
          "text": [
            "[1, 2, 3, 4]\n"
          ]
        }
      ]
    },
    {
      "cell_type": "markdown",
      "source": [
        "# Dictionaries (\"benannte\" Liste, key-value-Liste)"
      ],
      "metadata": {
        "id": "9gjaesgJuobD"
      }
    },
    {
      "cell_type": "code",
      "source": [
        "w3colors = { \"red\":\"#ff0000\", \"yellow\":\"#ffff00\", \"lime\":\"00ff00\"}\n",
        "print(w3colors)"
      ],
      "metadata": {
        "colab": {
          "base_uri": "https://localhost:8080/"
        },
        "id": "tjvD7cEluuF9",
        "outputId": "85cd2f63-ec51-4979-c58f-92914e3f061d"
      },
      "execution_count": null,
      "outputs": [
        {
          "output_type": "stream",
          "name": "stdout",
          "text": [
            "{'red': '#ff0000', 'yellow': '#ffff00', 'lime': '00ff00'}\n"
          ]
        }
      ]
    },
    {
      "cell_type": "code",
      "source": [
        "w3colors[\"lime\"]"
      ],
      "metadata": {
        "colab": {
          "base_uri": "https://localhost:8080/",
          "height": 35
        },
        "id": "Gi0CAoQQvV6A",
        "outputId": "02a9bae7-b6a4-46cb-f670-c3a5f5d22f29"
      },
      "execution_count": null,
      "outputs": [
        {
          "output_type": "execute_result",
          "data": {
            "text/plain": [
              "'00ff00'"
            ],
            "application/vnd.google.colaboratory.intrinsic+json": {
              "type": "string"
            }
          },
          "metadata": {},
          "execution_count": 33
        }
      ]
    },
    {
      "cell_type": "code",
      "source": [
        "w3colors[2]"
      ],
      "metadata": {
        "colab": {
          "base_uri": "https://localhost:8080/",
          "height": 176
        },
        "id": "SrZGjKhjvt-G",
        "outputId": "2e25acb6-e086-48f6-b8bb-a930e75f4ec4"
      },
      "execution_count": null,
      "outputs": [
        {
          "output_type": "error",
          "ename": "KeyError",
          "evalue": "ignored",
          "traceback": [
            "\u001b[0;31m---------------------------------------------------------------------------\u001b[0m",
            "\u001b[0;31mKeyError\u001b[0m                                  Traceback (most recent call last)",
            "\u001b[0;32m<ipython-input-34-47e39b6fa2d2>\u001b[0m in \u001b[0;36m<cell line: 1>\u001b[0;34m()\u001b[0m\n\u001b[0;32m----> 1\u001b[0;31m \u001b[0mw3colors\u001b[0m\u001b[0;34m[\u001b[0m\u001b[0;36m2\u001b[0m\u001b[0;34m]\u001b[0m\u001b[0;34m\u001b[0m\u001b[0;34m\u001b[0m\u001b[0m\n\u001b[0m",
            "\u001b[0;31mKeyError\u001b[0m: 2"
          ]
        }
      ]
    },
    {
      "cell_type": "code",
      "source": [
        "print(w3colors.keys())"
      ],
      "metadata": {
        "colab": {
          "base_uri": "https://localhost:8080/"
        },
        "id": "XHl6nO1GwDru",
        "outputId": "7ebaf360-2375-47dc-bb90-37a22620edde"
      },
      "execution_count": null,
      "outputs": [
        {
          "output_type": "stream",
          "name": "stdout",
          "text": [
            "dict_keys(['red', 'yellow', 'lime'])\n"
          ]
        }
      ]
    },
    {
      "cell_type": "code",
      "source": [
        "print(w3colors.values())"
      ],
      "metadata": {
        "colab": {
          "base_uri": "https://localhost:8080/"
        },
        "id": "gGxns3JowVyk",
        "outputId": "d315f43e-a4a3-4f71-ff0b-588ebdaf0863"
      },
      "execution_count": null,
      "outputs": [
        {
          "output_type": "stream",
          "name": "stdout",
          "text": [
            "dict_values(['#ff0000', '#ffff00', '00ff00'])\n"
          ]
        }
      ]
    },
    {
      "cell_type": "code",
      "source": [
        "li3 = list(w3colors.keys())\n",
        "print(li3)"
      ],
      "metadata": {
        "colab": {
          "base_uri": "https://localhost:8080/"
        },
        "id": "tLM0N7AVwfd2",
        "outputId": "0cb798e2-e608-4562-ff1a-fd2c16e8612e"
      },
      "execution_count": null,
      "outputs": [
        {
          "output_type": "stream",
          "name": "stdout",
          "text": [
            "['red', 'yellow', 'lime']\n"
          ]
        }
      ]
    },
    {
      "cell_type": "markdown",
      "source": [
        "# Anwendungsmöglichkeiten, Kontrollstrukturen"
      ],
      "metadata": {
        "id": "LTgoZB4gw6Pa"
      }
    },
    {
      "cell_type": "code",
      "source": [
        "for p in primzahlen:\n",
        "  print(p)\n",
        "print(\"Das waren alle\")"
      ],
      "metadata": {
        "colab": {
          "base_uri": "https://localhost:8080/"
        },
        "id": "9SxvRI9fw-qs",
        "outputId": "f5fa796e-46ab-4387-8249-7e3a0ba45bc1"
      },
      "execution_count": null,
      "outputs": [
        {
          "output_type": "stream",
          "name": "stdout",
          "text": [
            "2\n",
            "Das waren alle\n",
            "3\n",
            "Das waren alle\n",
            "5\n",
            "Das waren alle\n",
            "7\n",
            "Das waren alle\n",
            "11\n",
            "Das waren alle\n",
            "13\n",
            "Das waren alle\n",
            "17\n",
            "Das waren alle\n"
          ]
        }
      ]
    },
    {
      "cell_type": "code",
      "source": [
        "i = 1\n",
        "for p in primzahlen:\n",
        "  print(\"Die \" + str(i) + \". Primzahl ist \")\n",
        "  print(p)\n",
        "  i = i + 1\n",
        "print(\"Das waren alle\")"
      ],
      "metadata": {
        "colab": {
          "base_uri": "https://localhost:8080/"
        },
        "id": "cMIX1Y1Ixv5L",
        "outputId": "ca36f351-1f79-4c2b-a593-c98ecb0b40f4"
      },
      "execution_count": null,
      "outputs": [
        {
          "output_type": "stream",
          "name": "stdout",
          "text": [
            "Die 1. Primzahl ist \n",
            "2\n",
            "Die 2. Primzahl ist \n",
            "3\n",
            "Die 3. Primzahl ist \n",
            "5\n",
            "Die 4. Primzahl ist \n",
            "7\n",
            "Die 5. Primzahl ist \n",
            "11\n",
            "Die 6. Primzahl ist \n",
            "13\n",
            "Die 7. Primzahl ist \n",
            "17\n",
            "Das waren alle\n"
          ]
        }
      ]
    }
  ]
}