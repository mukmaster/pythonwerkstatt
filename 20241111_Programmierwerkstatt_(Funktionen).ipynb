{
  "nbformat": 4,
  "nbformat_minor": 0,
  "metadata": {
    "colab": {
      "provenance": [],
      "authorship_tag": "ABX9TyP3l2318reD+fq9ZSbG2Btl",
      "include_colab_link": true
    },
    "kernelspec": {
      "name": "python3",
      "display_name": "Python 3"
    },
    "language_info": {
      "name": "python"
    }
  },
  "cells": [
    {
      "cell_type": "markdown",
      "metadata": {
        "id": "view-in-github",
        "colab_type": "text"
      },
      "source": [
        "<a href=\"https://colab.research.google.com/github/mukmaster/pythonwerkstatt/blob/main/20241111_Programmierwerkstatt_(Funktionen).ipynb\" target=\"_parent\"><img src=\"https://colab.research.google.com/assets/colab-badge.svg\" alt=\"Open In Colab\"/></a>"
      ]
    },
    {
      "cell_type": "markdown",
      "source": [
        "# Willkommen zur Programmierwerkstatt am 13.11.24\n",
        "Heute geht es vor allem um Funktionen. Zunächst aber unser ZEN des Tages."
      ],
      "metadata": {
        "id": "hj-BRShMHvza"
      }
    },
    {
      "cell_type": "code",
      "source": [
        "import this"
      ],
      "metadata": {
        "colab": {
          "base_uri": "https://localhost:8080/"
        },
        "id": "YQpnZ2XIH246",
        "outputId": "d1a1d739-aa00-4df1-effe-5c5a1239eeef"
      },
      "execution_count": null,
      "outputs": [
        {
          "output_type": "stream",
          "name": "stdout",
          "text": [
            "The Zen of Python, by Tim Peters\n",
            "\n",
            "Beautiful is better than ugly.\n",
            "Explicit is better than implicit.\n",
            "Simple is better than complex.\n",
            "Complex is better than complicated.\n",
            "Flat is better than nested.\n",
            "Sparse is better than dense.\n",
            "Readability counts.\n",
            "Special cases aren't special enough to break the rules.\n",
            "Although practicality beats purity.\n",
            "Errors should never pass silently.\n",
            "Unless explicitly silenced.\n",
            "In the face of ambiguity, refuse the temptation to guess.\n",
            "There should be one-- and preferably only one --obvious way to do it.\n",
            "Although that way may not be obvious at first unless you're Dutch.\n",
            "Now is better than never.\n",
            "Although never is often better than *right* now.\n",
            "If the implementation is hard to explain, it's a bad idea.\n",
            "If the implementation is easy to explain, it may be a good idea.\n",
            "Namespaces are one honking great idea -- let's do more of those!\n"
          ]
        }
      ]
    },
    {
      "cell_type": "markdown",
      "source": [
        "    import this\n",
        "\n",
        "        ....\n",
        "        Now is better than never.\n",
        "        Although never is often better than *right* now.\n",
        "\n",
        "Im folgenden hierzu einige \"Gedanken\" von ChatGPT 4o. Gerne dürfen Sie die durch eigene Überlegungen ergänzen. 😃\n",
        "\n",
        "Diese beiden Zeilen aus dem „Zen of Python“ drücken eine philosophische Haltung aus, die sich auf das Timing von Entscheidungen und Aktionen bezieht. Sie können wie folgt interpretiert werden:\n",
        "\n",
        "### 1. **\"Now is better than never\"**\n",
        "   - **Interpretation**: Es ist oft besser, eine Aufgabe oder Entscheidung jetzt anzugehen, als sie auf unbestimmte Zeit aufzuschieben.\n",
        "   - **Hintergrund**: In der Softwareentwicklung (und im Leben) gibt es selten perfekte Momente. Wenn du wartest, bis alle Bedingungen ideal sind, kann es sein, dass du nie handelst. Das Motto ermutigt dazu, pragmatisch zu sein und sich mit einer unvollständigen, aber brauchbaren Lösung zu begnügen.\n",
        "\n",
        "### 2. **\"Although never is often better than *right* now\"**\n",
        "   - **Interpretation**: Es gibt Situationen, in denen überstürztes Handeln (jetzt sofort) schädlich oder kontraproduktiv sein kann. In solchen Fällen ist es besser, gar nichts zu tun (never), als übereilt zu handeln (*right now*).\n",
        "   - **Hintergrund**: Manchmal führt unüberlegtes, hastiges Handeln zu Fehlern, die später aufwendig korrigiert werden müssen. In der Programmierung könnte das bedeuten, dass es besser ist, eine schlechte Lösung zu vermeiden, selbst wenn das bedeutet, vorübergehend nichts zu tun.\n",
        "\n",
        "### Zusammenspiel:\n",
        "Die beiden Aussagen stehen in einem kreativen Spannungsfeld zueinander:\n",
        "- Die erste ermutigt zu pragmatischem Handeln, wenn die Alternative endlose Verzögerung ist.\n",
        "- Die zweite warnt davor, unüberlegt zu handeln und dabei langfristigen Schaden anzurichten.\n",
        "\n",
        "Dies spiegelt die Balance wider, die in der Softwareentwicklung (und oft im Leben) nötig ist: Klug abzuwägen, wann man handeln sollte und wann Zurückhaltung die bessere Wahl ist."
      ],
      "metadata": {
        "id": "nOr9akaFpYP5"
      }
    },
    {
      "cell_type": "markdown",
      "source": [
        "# Funktionen in Python\n",
        "Python-Funktionen sehen zunächst aus wie Funktionen in klassischen (alten) Programmiersprachen, z.B. in FORTRAN (FORmular TRANslator) oder in C, und anders als Methoden in JAVA, die stets Bestandteil einer Klasse sind. Allerdings können Python-Funktionen deutlich mehr als Funktionen aus älteren Programmiersprachen. Und zusätzlich unterstützt Python auch das modernere Konzept der Objektorientierung - dazu kommen wir allerdings erst später.\n",
        "\n",
        "Starten wir, indem wir eine einfache Quadratfunktion definieren. Tatsächlich beginnt eine Funktionsdefinition stets mit dem Schlüsselwort **def**:"
      ],
      "metadata": {
        "id": "M27rBKrmsW9A"
      }
    },
    {
      "cell_type": "code",
      "source": [
        "def quadrat(n):\n",
        "  return n*n"
      ],
      "metadata": {
        "id": "WK9FmSuFJRT2"
      },
      "execution_count": 2,
      "outputs": []
    },
    {
      "cell_type": "markdown",
      "source": [
        "Eine Funktion wird durch Angabe ihres Namens aufgerufen, gefolgt von runden Klammern, die mögliche Parameter (hier nur einer) enthalten:"
      ],
      "metadata": {
        "id": "hHNc3dbmuumF"
      }
    },
    {
      "cell_type": "code",
      "source": [
        "quadrat(5)"
      ],
      "metadata": {
        "colab": {
          "base_uri": "https://localhost:8080/"
        },
        "id": "Hq44JjxPvApC",
        "outputId": "59e48e3c-07e7-43ae-9b6f-6f69081d8863"
      },
      "execution_count": 5,
      "outputs": [
        {
          "output_type": "execute_result",
          "data": {
            "text/plain": [
              "25"
            ]
          },
          "metadata": {},
          "execution_count": 5
        }
      ]
    },
    {
      "cell_type": "code",
      "source": [
        "quadrat(12)"
      ],
      "metadata": {
        "colab": {
          "base_uri": "https://localhost:8080/"
        },
        "id": "hMXqDf_CvFli",
        "outputId": "724efec7-1b57-4504-9949-c9fcec48343e"
      },
      "execution_count": 6,
      "outputs": [
        {
          "output_type": "execute_result",
          "data": {
            "text/plain": [
              "144"
            ]
          },
          "metadata": {},
          "execution_count": 6
        }
      ]
    },
    {
      "cell_type": "code",
      "source": [
        "quadrat(quadrat(5))"
      ],
      "metadata": {
        "colab": {
          "base_uri": "https://localhost:8080/"
        },
        "id": "Aya29RgYvJNJ",
        "outputId": "38d8cb53-08d1-4391-effa-823a9296d61a"
      },
      "execution_count": 7,
      "outputs": [
        {
          "output_type": "execute_result",
          "data": {
            "text/plain": [
              "625"
            ]
          },
          "metadata": {},
          "execution_count": 7
        }
      ]
    },
    {
      "cell_type": "markdown",
      "source": [
        "Sehen wir uns auch gleich noch an, was Python ausgibt, wenn wir nur den Namen der Funktion ausführen.\n",
        "\n",
        "Und welchen Typ hat **quadrat**?"
      ],
      "metadata": {
        "id": "6MObPmBGuZOk"
      }
    },
    {
      "cell_type": "code",
      "source": [
        "quadrat"
      ],
      "metadata": {
        "colab": {
          "base_uri": "https://localhost:8080/",
          "height": 103
        },
        "id": "_SxyzDBcuVeo",
        "outputId": "69556c41-191a-4833-f25b-b719ca22d216"
      },
      "execution_count": 4,
      "outputs": [
        {
          "output_type": "execute_result",
          "data": {
            "text/plain": [
              "<function __main__.quadrat(n)>"
            ],
            "text/html": [
              "<div style=\"max-width:800px; border: 1px solid var(--colab-border-color);\"><style>\n",
              "      pre.function-repr-contents {\n",
              "        overflow-x: auto;\n",
              "        padding: 8px 12px;\n",
              "        max-height: 500px;\n",
              "      }\n",
              "\n",
              "      pre.function-repr-contents.function-repr-contents-collapsed {\n",
              "        cursor: pointer;\n",
              "        max-height: 100px;\n",
              "      }\n",
              "    </style>\n",
              "    <pre style=\"white-space: initial; background:\n",
              "         var(--colab-secondary-surface-color); padding: 8px 12px;\n",
              "         border-bottom: 1px solid var(--colab-border-color);\"><b>quadrat</b><br/>def quadrat(n)</pre><pre class=\"function-repr-contents function-repr-contents-collapsed\" style=\"\"><a class=\"filepath\" style=\"display:none\" href=\"#\">/content/&lt;ipython-input-2-46a3b1362be9&gt;</a>&lt;no docstring&gt;</pre></div>"
            ]
          },
          "metadata": {},
          "execution_count": 4
        }
      ]
    },
    {
      "cell_type": "code",
      "source": [
        "type(quadrat)"
      ],
      "metadata": {
        "colab": {
          "base_uri": "https://localhost:8080/"
        },
        "id": "F53KEr-KORh4",
        "outputId": "a88e4c23-5cfe-443b-9e60-3ba3f7cb26d0"
      },
      "execution_count": 3,
      "outputs": [
        {
          "output_type": "execute_result",
          "data": {
            "text/plain": [
              "function"
            ]
          },
          "metadata": {},
          "execution_count": 3
        }
      ]
    },
    {
      "cell_type": "code",
      "source": [
        "quadrat(5)"
      ],
      "metadata": {
        "colab": {
          "base_uri": "https://localhost:8080/"
        },
        "id": "GAvPZ0UlOznl",
        "outputId": "841336ae-b84f-473f-ee5f-fa0fc6788e39"
      },
      "execution_count": null,
      "outputs": [
        {
          "output_type": "execute_result",
          "data": {
            "text/plain": [
              "25"
            ]
          },
          "metadata": {},
          "execution_count": 5
        }
      ]
    },
    {
      "cell_type": "markdown",
      "source": [
        "Und jetzt noch eine andere einfache Funktion, diesmal mit 2 Parametern:"
      ],
      "metadata": {
        "id": "DEhg5eAmvdlm"
      }
    },
    {
      "cell_type": "code",
      "source": [
        "def summe(a,b):\n",
        "  return a+b"
      ],
      "metadata": {
        "id": "eiqx5o-jO21k"
      },
      "execution_count": 8,
      "outputs": []
    },
    {
      "cell_type": "code",
      "source": [
        "summe(3,5)"
      ],
      "metadata": {
        "colab": {
          "base_uri": "https://localhost:8080/"
        },
        "id": "ev1HNwGwPLao",
        "outputId": "a031ef32-3b9a-4c52-9854-53f430da508e"
      },
      "execution_count": 9,
      "outputs": [
        {
          "output_type": "execute_result",
          "data": {
            "text/plain": [
              "8"
            ]
          },
          "metadata": {},
          "execution_count": 9
        }
      ]
    },
    {
      "cell_type": "code",
      "source": [
        "quadrat(summe(3,5))"
      ],
      "metadata": {
        "colab": {
          "base_uri": "https://localhost:8080/"
        },
        "id": "-Mdyb_N5PRVd",
        "outputId": "ec59603c-6bb0-469d-da57-93c36a9845e6"
      },
      "execution_count": 10,
      "outputs": [
        {
          "output_type": "execute_result",
          "data": {
            "text/plain": [
              "64"
            ]
          },
          "metadata": {},
          "execution_count": 10
        }
      ]
    },
    {
      "cell_type": "markdown",
      "source": [
        "Parameter einer Funktion dürfen natürlich auch Strings sein. Gleich noch ein Beispiel:"
      ],
      "metadata": {
        "id": "ntcspBcEvoLF"
      }
    },
    {
      "cell_type": "code",
      "source": [
        "def hello(name):\n",
        "  print(\"Hallo\", name)"
      ],
      "metadata": {
        "id": "WjaKVeqSPT8g"
      },
      "execution_count": 11,
      "outputs": []
    },
    {
      "cell_type": "code",
      "source": [
        "hello(\"Max\")"
      ],
      "metadata": {
        "colab": {
          "base_uri": "https://localhost:8080/"
        },
        "id": "A8XPjFIKPmXh",
        "outputId": "33e4fab2-14b7-43a8-d504-94ee15a905ad"
      },
      "execution_count": null,
      "outputs": [
        {
          "output_type": "stream",
          "name": "stdout",
          "text": [
            "Hallo Max\n"
          ]
        }
      ]
    },
    {
      "cell_type": "markdown",
      "source": [
        "**Beobachtung:** Anders als in Java müssen wir weder für die Parameter noch für den Rückgabewert der Funktion Typen angeben. Das ist, wie wir ja schon wissen, eine Besonderheit von Python, wo kaum etwas deklariert werden muss. Damit die Sprache trotzdem möglichst **typsicher** ist, wird die Typzugehörigkeit von Variablen und Parametern erst zur Laufzeit des Programms durch den Python-Interpreter bestimmt.\n",
        "\n",
        "Aber es gibt noch weitere Unterschiede. Parameter können einen **Default-Wert** besitzen, das bedeutet, wenn der Parameterwert beim Aufruf der Funktion weggelassen wird, wird der Defaultwert benutzt."
      ],
      "metadata": {
        "id": "ccwhkMnPv0FN"
      }
    },
    {
      "cell_type": "code",
      "source": [
        "def hello(name=\"Anonymer User\"):  # default-Wert\n",
        "  print(\"Hallo\", name)"
      ],
      "metadata": {
        "id": "TqV8DSU9Pu67"
      },
      "execution_count": 12,
      "outputs": []
    },
    {
      "cell_type": "code",
      "source": [
        "hello(\"Max  \")"
      ],
      "metadata": {
        "colab": {
          "base_uri": "https://localhost:8080/"
        },
        "id": "oTW3Ob6nP99U",
        "outputId": "289ac611-a141-4e29-df02-705a9e28fa43"
      },
      "execution_count": 13,
      "outputs": [
        {
          "output_type": "stream",
          "name": "stdout",
          "text": [
            "Hallo Max  \n"
          ]
        }
      ]
    },
    {
      "cell_type": "code",
      "source": [
        "hello()"
      ],
      "metadata": {
        "colab": {
          "base_uri": "https://localhost:8080/"
        },
        "id": "zlUFoHVyQEEz",
        "outputId": "a63b5bb5-6c78-4191-d43f-2937c83b90d4"
      },
      "execution_count": null,
      "outputs": [
        {
          "output_type": "stream",
          "name": "stdout",
          "text": [
            "Hallo Anonymer User\n"
          ]
        }
      ]
    },
    {
      "cell_type": "code",
      "source": [
        "def greeting(vorname=\"Max\", nachname=\"Mustermann\", anrede=\"Herr\"):\n",
        "  print(\"Hallo\", anrede, vorname, nachname)"
      ],
      "metadata": {
        "id": "h8mgQh_tQGzV"
      },
      "execution_count": 15,
      "outputs": []
    },
    {
      "cell_type": "code",
      "source": [
        "greeting()"
      ],
      "metadata": {
        "colab": {
          "base_uri": "https://localhost:8080/"
        },
        "id": "hWQCZKirQkSc",
        "outputId": "7e1102df-e1d5-4778-a668-38de9a410c4b"
      },
      "execution_count": 16,
      "outputs": [
        {
          "output_type": "stream",
          "name": "stdout",
          "text": [
            "Hallo Herr Max Mustermann\n"
          ]
        }
      ]
    },
    {
      "cell_type": "code",
      "source": [
        "greeting(vorname=\"Kurt\")"
      ],
      "metadata": {
        "colab": {
          "base_uri": "https://localhost:8080/"
        },
        "id": "kIwbn0VcQlxA",
        "outputId": "a8d30467-1c27-40d0-e5a5-561697920abc"
      },
      "execution_count": 17,
      "outputs": [
        {
          "output_type": "stream",
          "name": "stdout",
          "text": [
            "Hallo Herr Kurt Mustermann\n"
          ]
        }
      ]
    },
    {
      "cell_type": "markdown",
      "source": [
        "Eine weitere Python-Besonderheit ist die variabel lange Parameterliste. Die Anzahl der Parameter kann von Aufruf zu Aufruf unterschiedlich sein.\n",
        "\n",
        "Betrachten wir zunächst eine Funktion mit genau zwei Parametern:"
      ],
      "metadata": {
        "id": "Ni7CZ5-3xbxz"
      }
    },
    {
      "cell_type": "code",
      "source": [
        "def summe(a,b):\n",
        "  return a+b"
      ],
      "metadata": {
        "id": "0O8PxZcjQte5"
      },
      "execution_count": 23,
      "outputs": []
    },
    {
      "cell_type": "code",
      "source": [
        "summe(3,2)"
      ],
      "metadata": {
        "colab": {
          "base_uri": "https://localhost:8080/"
        },
        "id": "3PRfbXwqREZZ",
        "outputId": "c962e60f-2102-4c7e-f6fb-b660ba3bde81"
      },
      "execution_count": 20,
      "outputs": [
        {
          "output_type": "execute_result",
          "data": {
            "text/plain": [
              "5"
            ]
          },
          "metadata": {},
          "execution_count": 20
        }
      ]
    },
    {
      "cell_type": "markdown",
      "source": [
        "Was geschieht wohl, wenn beim Aufruf kein Parameter drei Parameter angegeben werden?"
      ],
      "metadata": {
        "id": "ZFzAwshgyvqp"
      }
    },
    {
      "cell_type": "code",
      "source": [
        "summe(1,2,3)"
      ],
      "metadata": {
        "colab": {
          "base_uri": "https://localhost:8080/",
          "height": 141
        },
        "id": "4cFBnqjJy7jQ",
        "outputId": "35a002bb-f075-496b-8215-8fb2c709c242"
      },
      "execution_count": 26,
      "outputs": [
        {
          "output_type": "error",
          "ename": "TypeError",
          "evalue": "summe() takes 2 positional arguments but 3 were given",
          "traceback": [
            "\u001b[0;31m---------------------------------------------------------------------------\u001b[0m",
            "\u001b[0;31mTypeError\u001b[0m                                 Traceback (most recent call last)",
            "\u001b[0;32m<ipython-input-26-ec7a1f2c809b>\u001b[0m in \u001b[0;36m<cell line: 1>\u001b[0;34m()\u001b[0m\n\u001b[0;32m----> 1\u001b[0;31m \u001b[0msumme\u001b[0m\u001b[0;34m(\u001b[0m\u001b[0;36m1\u001b[0m\u001b[0;34m,\u001b[0m\u001b[0;36m2\u001b[0m\u001b[0;34m,\u001b[0m\u001b[0;36m3\u001b[0m\u001b[0;34m)\u001b[0m\u001b[0;34m\u001b[0m\u001b[0;34m\u001b[0m\u001b[0m\n\u001b[0m",
            "\u001b[0;31mTypeError\u001b[0m: summe() takes 2 positional arguments but 3 were given"
          ]
        }
      ]
    },
    {
      "cell_type": "markdown",
      "source": [
        "Viel praktischer wäre es, wenn wir die gleiche Funktion mit unterschiedlicher Anzahl von Parametern verwenden könnten. Progrmamieren wir dafür eine weitere Funktion **summiere**. Beachten Sie: Im Kopf der Funktion wird nur ein Parameter (hier: **summanden**) definiert, aber vor diesen wird ein * gesetzt, das steht für \"beliebig\" viele Parameter:"
      ],
      "metadata": {
        "id": "eau4wCbNzNzy"
      }
    },
    {
      "cell_type": "code",
      "source": [
        "def summiere(*summanden):\n",
        "  summe = 0\n",
        "  for summand in summanden:\n",
        "    summe += summand\n",
        "  return summe"
      ],
      "metadata": {
        "id": "lfNmhrg1zf9a"
      },
      "execution_count": 97,
      "outputs": []
    },
    {
      "cell_type": "code",
      "source": [
        "summiere(1,2,3)"
      ],
      "metadata": {
        "id": "p6euiG_bS3Mb",
        "colab": {
          "base_uri": "https://localhost:8080/"
        },
        "outputId": "261d83c4-4dc8-4aca-a8a4-747896138cd4"
      },
      "execution_count": 28,
      "outputs": [
        {
          "output_type": "execute_result",
          "data": {
            "text/plain": [
              "6"
            ]
          },
          "metadata": {},
          "execution_count": 28
        }
      ]
    },
    {
      "cell_type": "code",
      "source": [
        "summiere(1,2,3,4,5,6,7,8,9,10)"
      ],
      "metadata": {
        "colab": {
          "base_uri": "https://localhost:8080/"
        },
        "id": "EbBFo7bKzweZ",
        "outputId": "2c954c69-03f3-4105-d366-7e25ea97f4ad"
      },
      "execution_count": 29,
      "outputs": [
        {
          "output_type": "execute_result",
          "data": {
            "text/plain": [
              "55"
            ]
          },
          "metadata": {},
          "execution_count": 29
        }
      ]
    },
    {
      "cell_type": "markdown",
      "source": [
        "Als Parameter erwartet Python beim Aufruf der Funktion stets den Datentyp **tuple**, also eine Aufzählung von Elementen."
      ],
      "metadata": {
        "id": "F_WEtN_N1TmY"
      }
    },
    {
      "cell_type": "code",
      "source": [
        "tupel_1_bis_10 = (1,2,3,4,5,6,7,8,9,10)\n",
        "summiere(*tupel_1_bis_10)"
      ],
      "metadata": {
        "colab": {
          "base_uri": "https://localhost:8080/"
        },
        "id": "GgxxjAORz6Xq",
        "outputId": "8bd5f2d9-adaf-463d-e16c-86887804a529"
      },
      "execution_count": 35,
      "outputs": [
        {
          "output_type": "execute_result",
          "data": {
            "text/plain": [
              "55"
            ]
          },
          "metadata": {},
          "execution_count": 35
        }
      ]
    },
    {
      "cell_type": "code",
      "source": [
        "tupel_1_bis_100 = tuple(range(1,101))\n",
        "summiere(*tupel100)"
      ],
      "metadata": {
        "colab": {
          "base_uri": "https://localhost:8080/"
        },
        "id": "tetW3rjh163W",
        "outputId": "5cc2e991-7e61-4bcf-dfaa-41cc3cea40ad"
      },
      "execution_count": 36,
      "outputs": [
        {
          "output_type": "execute_result",
          "data": {
            "text/plain": [
              "5050"
            ]
          },
          "metadata": {},
          "execution_count": 36
        }
      ]
    },
    {
      "cell_type": "markdown",
      "source": [
        "Das geht nicht nur mit Zahlentupeln, sondern auch mit Strings, wie es das folgende Beispiel zeigt:"
      ],
      "metadata": {
        "id": "WPIpwocA2aKb"
      }
    },
    {
      "cell_type": "code",
      "source": [
        "def verketten(*strings):\n",
        "  ergebnis_string = \"\"\n",
        "  for string in strings:\n",
        "    ergebnis_string += string\n",
        "  return ergebnis_string"
      ],
      "metadata": {
        "id": "Qz5LTiZWPIV0"
      },
      "execution_count": 39,
      "outputs": []
    },
    {
      "cell_type": "code",
      "source": [
        "verketten(\"Max\", \"Moritz\", \"Witwe Bolte\")"
      ],
      "metadata": {
        "id": "V1BpNMXIXB6Q",
        "colab": {
          "base_uri": "https://localhost:8080/",
          "height": 35
        },
        "outputId": "c44fc194-5eb4-4fa3-a57e-ac19972f42f1"
      },
      "execution_count": 46,
      "outputs": [
        {
          "output_type": "execute_result",
          "data": {
            "text/plain": [
              "'MaxMoritzWitwe Bolte'"
            ],
            "application/vnd.google.colaboratory.intrinsic+json": {
              "type": "string"
            }
          },
          "metadata": {},
          "execution_count": 46
        }
      ]
    },
    {
      "cell_type": "markdown",
      "source": [
        "Und das Ganze jetzt geht sogar noch ein wenig schöner, eleganter und nützlicher:"
      ],
      "metadata": {
        "id": "OOn5RJOI3YJe"
      }
    },
    {
      "cell_type": "code",
      "source": [
        "def verketten2(*strings, trennstring=\", \"):\n",
        "  ergebnis_string = \"\"\n",
        "  for string in strings:\n",
        "    ergebnis_string = ergebnis_string + string + trennstring\n",
        "  return ergebnis_string[:-len(trennstring)]"
      ],
      "metadata": {
        "id": "01n0QUjj3cZB"
      },
      "execution_count": 75,
      "outputs": []
    },
    {
      "cell_type": "markdown",
      "source": [
        "**Zur Erklärung:** Die einzelnen Strings sollen nicht nur einfach nebeneinander *geklatscht* weden. Deshalb gibt es nun neben dem Tupel **strings** noch einen weiteren Parameter **trennstring**, der jeweils zwischen zwei Strings eingefügt werden soll.  Der Defaultwert für eine Trennung ist das Komma.\n",
        "\n",
        "In der folgenden Funktion **verketten2** wird der Trennstring an jedes Zwischenergebnis angehängt. Das wäre am Ende einmal zuviel, daher wird er vor der Rückgabe mit **return** wieder vom Ende des resultierenden Strings entfernt."
      ],
      "metadata": {
        "id": "4DpHsujQ5RYy"
      }
    },
    {
      "cell_type": "code",
      "source": [
        "verketten2(\"Max\", \"Moritz\", \"Witwe Bolte\")"
      ],
      "metadata": {
        "id": "OMV8LdVBWqzH",
        "colab": {
          "base_uri": "https://localhost:8080/",
          "height": 35
        },
        "outputId": "d4746b8e-a6d0-4e45-b61a-68c1f5ba28d2"
      },
      "execution_count": 95,
      "outputs": [
        {
          "output_type": "execute_result",
          "data": {
            "text/plain": [
              "'Max, Moritz, Witwe Bolte'"
            ],
            "application/vnd.google.colaboratory.intrinsic+json": {
              "type": "string"
            }
          },
          "metadata": {},
          "execution_count": 95
        }
      ]
    },
    {
      "cell_type": "code",
      "source": [
        "verketten2(\"Max\", \"Moritz\", \"Witwe Bolte\", trennstring=\" und \")"
      ],
      "metadata": {
        "colab": {
          "base_uri": "https://localhost:8080/",
          "height": 35
        },
        "id": "gD05ZfFA4fE8",
        "outputId": "517e75b0-aeae-4fca-877f-1f5d28b40968"
      },
      "execution_count": 94,
      "outputs": [
        {
          "output_type": "execute_result",
          "data": {
            "text/plain": [
              "'Max und Moritz und Witwe Bolte'"
            ],
            "application/vnd.google.colaboratory.intrinsic+json": {
              "type": "string"
            }
          },
          "metadata": {},
          "execution_count": 94
        }
      ]
    },
    {
      "cell_type": "markdown",
      "source": [
        "Die folgende Variante **verketten3** geht etwas anders vor als **verketten2**, liefert aber das gleiche Ergebnis. Warum? Und welche der beiden Lösungen finden Sie eleganter?"
      ],
      "metadata": {
        "id": "r5baLnjD7PI7"
      }
    },
    {
      "cell_type": "code",
      "source": [
        "def verketten3(*strings, trennstring=\", \"):\n",
        "  ergebnis_string = \"\"\n",
        "  for string in strings[:-1]:\n",
        "    ergebnis_string = ergebnis_string + string + trennstring\n",
        "  return ergebnis_string + strings[-1]"
      ],
      "metadata": {
        "id": "4kmNfV5J6Psc"
      },
      "execution_count": 91,
      "outputs": []
    },
    {
      "cell_type": "markdown",
      "source": [
        "** Kurz erklärt:** In dieser Funktion wird die Laufschleife bereits beim vorletzten Element beendet. Beim **return** muss daher das letzte String-Element noch angehängt werden, aber natürlich kein Trennstring mehr.\n",
        "\n",
        "Ich finde die Funktion **verketten2** etwas pythonischer wegen des Strings-Slicing in der letzten Zeile. Sauberer programmiert dürfte **verketten3** sein."
      ],
      "metadata": {
        "id": "lm7Km6qg8rFD"
      }
    },
    {
      "cell_type": "markdown",
      "source": [
        "# yield vs. return\n",
        "Eine Funktion, die mit **return** verlassen wird, ist damit auch beendet. Alle im Rumpf definierten lokalen Variablen (und der dafür belegte Speicher) werden beim Verlassen freigegeben. Alles, was im Rumpf der Funktion gespeichert wurde, ist verloren. Beim nächsten Aufruf ist es, als wäre die Funktion das erste Mal aufgerufen worden.\n",
        "\n",
        "Betrachten wir dazu ein Beispiel: Mit Hilfe einer Funktion soll ene Startsequenz (wie z.B. in den olympischen Laufdisziplinen) simuliert werden. Beim ersten Aufruf soll sie **ready**, beim zweiten Aufruf **set** und beim dritten Aufruf **go** liefern.\n",
        "\n",
        "Ein erster Versuch mit **starter1()**:"
      ],
      "metadata": {
        "id": "L_THtcBsHGPo"
      }
    },
    {
      "cell_type": "code",
      "source": [
        "def starter1():\n",
        "  counter = 0\n",
        "  if counter == 0:\n",
        "    counter += 1\n",
        "    return \"ready\"\n",
        "  if counter == 1:\n",
        "    counter += 1\n",
        "    return \"set\"\n",
        "  if counter == 2:\n",
        "    counter += 1\n",
        "    return \"go\""
      ],
      "metadata": {
        "id": "NWswwtCRJIxo"
      },
      "execution_count": 103,
      "outputs": []
    },
    {
      "cell_type": "markdown",
      "source": [
        "Die Zählvariable **counter** im Rumpf der Funktion wird mit \"0\" initialisiert und dann immer um 1 hochgezählt. Leider funktionert die Funktion noch nicht, wie wir es gerne hätten:"
      ],
      "metadata": {
        "id": "VuF_oR5cJQpP"
      }
    },
    {
      "cell_type": "code",
      "source": [
        "starter1()"
      ],
      "metadata": {
        "colab": {
          "base_uri": "https://localhost:8080/",
          "height": 35
        },
        "id": "AwNSXW7_JlX2",
        "outputId": "60d0ec46-1a16-4e2c-d349-1622d815fdaf"
      },
      "execution_count": 104,
      "outputs": [
        {
          "output_type": "execute_result",
          "data": {
            "text/plain": [
              "'ready'"
            ],
            "application/vnd.google.colaboratory.intrinsic+json": {
              "type": "string"
            }
          },
          "metadata": {},
          "execution_count": 104
        }
      ]
    },
    {
      "cell_type": "code",
      "source": [
        "starter1()"
      ],
      "metadata": {
        "colab": {
          "base_uri": "https://localhost:8080/",
          "height": 35
        },
        "id": "vwDqzNZ1JnXq",
        "outputId": "b9b36692-36b7-4da7-91f6-254024e9befb"
      },
      "execution_count": 105,
      "outputs": [
        {
          "output_type": "execute_result",
          "data": {
            "text/plain": [
              "'ready'"
            ],
            "application/vnd.google.colaboratory.intrinsic+json": {
              "type": "string"
            }
          },
          "metadata": {},
          "execution_count": 105
        }
      ]
    },
    {
      "cell_type": "markdown",
      "source": [
        "Egal, wie oft **starter1()** aufgerufen wird - das Ergebnis ist immer **ready**. Grund ist (natürlich) die lokale Variable **counter**, die bei jedem Aufruf immer wieder auf 0 gesetzt wird, was dem Zustand **ready** entspricht. Weiter kommt die Funktion auch nicht.\n",
        "\n",
        "Zweiter Versuch mit **starter2()**:"
      ],
      "metadata": {
        "id": "oY0_ufJMJpsQ"
      }
    },
    {
      "cell_type": "code",
      "source": [
        "counter = 0\n",
        "def starter2():\n",
        "  if counter == 0:\n",
        "    counter += 1\n",
        "    return \"ready\"\n",
        "  if counter == 1:\n",
        "    counter += 1\n",
        "    return \"set\"\n",
        "  if counter == 2:\n",
        "    counter += 1\n",
        "    return \"go\""
      ],
      "metadata": {
        "id": "wPPsYXOjKD2Z"
      },
      "execution_count": 106,
      "outputs": []
    },
    {
      "cell_type": "code",
      "source": [
        "starter2()"
      ],
      "metadata": {
        "colab": {
          "base_uri": "https://localhost:8080/",
          "height": 263
        },
        "id": "_iE-F-5BKT5J",
        "outputId": "eb2291db-8d6e-4537-f26a-783a7edc2b6e"
      },
      "execution_count": 107,
      "outputs": [
        {
          "output_type": "error",
          "ename": "UnboundLocalError",
          "evalue": "local variable 'counter' referenced before assignment",
          "traceback": [
            "\u001b[0;31m---------------------------------------------------------------------------\u001b[0m",
            "\u001b[0;31mUnboundLocalError\u001b[0m                         Traceback (most recent call last)",
            "\u001b[0;32m<ipython-input-107-718848c2f317>\u001b[0m in \u001b[0;36m<cell line: 1>\u001b[0;34m()\u001b[0m\n\u001b[0;32m----> 1\u001b[0;31m \u001b[0mstarter2\u001b[0m\u001b[0;34m(\u001b[0m\u001b[0;34m)\u001b[0m\u001b[0;34m\u001b[0m\u001b[0;34m\u001b[0m\u001b[0m\n\u001b[0m",
            "\u001b[0;32m<ipython-input-106-605532e23dfe>\u001b[0m in \u001b[0;36mstarter2\u001b[0;34m()\u001b[0m\n\u001b[1;32m      1\u001b[0m \u001b[0mcounter\u001b[0m \u001b[0;34m=\u001b[0m \u001b[0;36m0\u001b[0m\u001b[0;34m\u001b[0m\u001b[0;34m\u001b[0m\u001b[0m\n\u001b[1;32m      2\u001b[0m \u001b[0;32mdef\u001b[0m \u001b[0mstarter2\u001b[0m\u001b[0;34m(\u001b[0m\u001b[0;34m)\u001b[0m\u001b[0;34m:\u001b[0m\u001b[0;34m\u001b[0m\u001b[0;34m\u001b[0m\u001b[0m\n\u001b[0;32m----> 3\u001b[0;31m   \u001b[0;32mif\u001b[0m \u001b[0mcounter\u001b[0m \u001b[0;34m==\u001b[0m \u001b[0;36m0\u001b[0m\u001b[0;34m:\u001b[0m\u001b[0;34m\u001b[0m\u001b[0;34m\u001b[0m\u001b[0m\n\u001b[0m\u001b[1;32m      4\u001b[0m     \u001b[0mcounter\u001b[0m \u001b[0;34m+=\u001b[0m \u001b[0;36m1\u001b[0m\u001b[0;34m\u001b[0m\u001b[0;34m\u001b[0m\u001b[0m\n\u001b[1;32m      5\u001b[0m     \u001b[0;32mreturn\u001b[0m \u001b[0;34m\"ready\"\u001b[0m\u001b[0;34m\u001b[0m\u001b[0;34m\u001b[0m\u001b[0m\n",
            "\u001b[0;31mUnboundLocalError\u001b[0m: local variable 'counter' referenced before assignment"
          ]
        }
      ]
    },
    {
      "cell_type": "markdown",
      "source": [
        "Was ist mit **starter2()** schief gelaufen? Die Variable **counter** wurde jetzt außerhalb der Funktion definiert, man nennt so etwas auch eine **globale Variable**. Im Rumpf aber wird **counter** aber offenbar als **lokale Variable** und damit als eine andere Variable als außerhalb der Funktion gesehen. Das kann so nicht funktionieren.\n",
        "\n",
        "Starten wir einen weiteren Versuch mit **starter3()**:"
      ],
      "metadata": {
        "id": "-ptmwBOgKYhZ"
      }
    },
    {
      "cell_type": "code",
      "source": [
        "counter = 0\n",
        "def starter3():\n",
        "  global counter\n",
        "  if counter == 0:\n",
        "    counter += 1\n",
        "    return \"ready\"\n",
        "  if counter == 1:\n",
        "    counter += 1\n",
        "    return \"set\"\n",
        "  if counter == 2:\n",
        "    counter += 1\n",
        "    return \"go\""
      ],
      "metadata": {
        "id": "FDkjME2HWxiG"
      },
      "execution_count": 109,
      "outputs": []
    },
    {
      "cell_type": "code",
      "source": [
        "starter3()"
      ],
      "metadata": {
        "id": "SAVra3qmbM8k",
        "colab": {
          "base_uri": "https://localhost:8080/",
          "height": 35
        },
        "outputId": "edf049ae-4dcb-451c-e6b3-950de795585b"
      },
      "execution_count": 110,
      "outputs": [
        {
          "output_type": "execute_result",
          "data": {
            "text/plain": [
              "'ready'"
            ],
            "application/vnd.google.colaboratory.intrinsic+json": {
              "type": "string"
            }
          },
          "metadata": {},
          "execution_count": 110
        }
      ]
    },
    {
      "cell_type": "code",
      "source": [
        "starter3()"
      ],
      "metadata": {
        "colab": {
          "base_uri": "https://localhost:8080/",
          "height": 35
        },
        "id": "sJPWyK-FLf4x",
        "outputId": "584dfa30-2658-48d5-c481-2ddf010a1eee"
      },
      "execution_count": 111,
      "outputs": [
        {
          "output_type": "execute_result",
          "data": {
            "text/plain": [
              "'set'"
            ],
            "application/vnd.google.colaboratory.intrinsic+json": {
              "type": "string"
            }
          },
          "metadata": {},
          "execution_count": 111
        }
      ]
    },
    {
      "cell_type": "code",
      "source": [
        "starter3()"
      ],
      "metadata": {
        "colab": {
          "base_uri": "https://localhost:8080/",
          "height": 35
        },
        "id": "Gr-aEb0iLjjM",
        "outputId": "e998a773-86f6-4533-cc6f-b639b7bb2982"
      },
      "execution_count": 112,
      "outputs": [
        {
          "output_type": "execute_result",
          "data": {
            "text/plain": [
              "'go'"
            ],
            "application/vnd.google.colaboratory.intrinsic+json": {
              "type": "string"
            }
          },
          "metadata": {},
          "execution_count": 112
        }
      ]
    },
    {
      "cell_type": "markdown",
      "source": [
        "Das sieht doch gut aus, oder? Mit dem Schlüsselwort **global** in Zeile 3 teilen wir Python mit, dass wir keine lokale Variable **counter**, sondern die bereits außerhalb der Funktion bestehende Variable verwenden möchte. Die globale Variable dient somit als **Gedächtnis** oder **Zustand** der Funktion.\n",
        "\n",
        "BTW: In der obigen Lösung wird der Zähler nicht zurückgesetzt, wenn  wir mit der Startsequenz fertig sind, die Folge ist, dass die Sequenz nur einmal funktioniert. Hier die verbesserte Version von **starter3()**:"
      ],
      "metadata": {
        "id": "ija46B3jLlxA"
      }
    },
    {
      "cell_type": "code",
      "source": [
        "counter = 0\n",
        "def starter3():\n",
        "  global counter\n",
        "  if counter == 0:\n",
        "    counter += 1\n",
        "    return \"ready\"\n",
        "  if counter == 1:\n",
        "    counter += 1\n",
        "    return \"set\"\n",
        "  if counter == 2:\n",
        "    counter = 0\n",
        "    return \"go\""
      ],
      "metadata": {
        "id": "bDmwafMCMVKX"
      },
      "execution_count": 121,
      "outputs": []
    },
    {
      "cell_type": "code",
      "source": [
        "print(starter3())\n",
        "print(starter3())\n",
        "print(starter3())\n",
        "print(starter3())\n",
        "print(starter3())\n",
        "print(\"und so weiter ...\")"
      ],
      "metadata": {
        "colab": {
          "base_uri": "https://localhost:8080/"
        },
        "id": "R9ADG4mhMzGN",
        "outputId": "e7c19a56-6167-4cbc-90f3-5e9a3ca4501d"
      },
      "execution_count": 120,
      "outputs": [
        {
          "output_type": "stream",
          "name": "stdout",
          "text": [
            "ready\n",
            "set\n",
            "go\n",
            "ready\n",
            "set\n",
            "und so weiter ...\n"
          ]
        }
      ]
    },
    {
      "cell_type": "markdown",
      "source": [
        "Wir wissen allerdings auch, dass **globale Variablen** nicht schön sind und gerne mal zu unerwarteten Effekten führen können. Was geschieht, wenn irgendwo im Programm (also nicht im Funktionsrumpf) der Wert von **counter** verändert würde? Probieren wir doch gleich mal aus:"
      ],
      "metadata": {
        "id": "MxhyJPH5NMy3"
      }
    },
    {
      "cell_type": "code",
      "source": [
        "print(starter3())\n",
        "print(starter3())\n",
        "print(starter3())\n",
        "counter = 2\n",
        "print(starter3())\n",
        "print(starter3())\n",
        "print(\"und so weiter ...\")"
      ],
      "metadata": {
        "colab": {
          "base_uri": "https://localhost:8080/"
        },
        "id": "7P6qs0Q_Nixv",
        "outputId": "56145a22-cd2e-4c4f-a118-d6439f6da565"
      },
      "execution_count": 122,
      "outputs": [
        {
          "output_type": "stream",
          "name": "stdout",
          "text": [
            "ready\n",
            "set\n",
            "go\n",
            "go\n",
            "ready\n",
            "und so weiter ...\n"
          ]
        }
      ]
    },
    {
      "cell_type": "markdown",
      "source": [
        "Das Problem ist also, dass die Funktion einen inneren Zustand (den **counter**) mit einer globalen Variablen simulieren muss, da sie selbst bei **return** beendet wird und alles vergisst.\n",
        "\n",
        "In Python gibt es aber auch die Möglichkeit, statt **return** ein **yield** zu verwenden. Die Funktion wird zwar auch verlassen, aber sie behält ihren **Zustand**, also die Werte der eigenen Variablen, ohne dafür auf eine globale Variable zurückgreifen zu müssen. Beim nächsten Aufruf macht sie an der Stelle weiter (mit allen lokalen Variablenwerten, die sie vorher schon hatte).\n"
      ],
      "metadata": {
        "id": "f_pwvbglNxjB"
      }
    },
    {
      "cell_type": "code",
      "source": [
        "def starter():\n",
        "  counter = 0\n",
        "  if counter == 0:\n",
        "    counter += 1\n",
        "    yield \"ready\"\n",
        "  if counter == 1:\n",
        "    counter += 1\n",
        "    yield \"set\"\n",
        "  if counter == 2:\n",
        "    yield \"go\""
      ],
      "metadata": {
        "id": "6ncyIkKiOg4d"
      },
      "execution_count": 129,
      "outputs": []
    },
    {
      "cell_type": "markdown",
      "source": [
        "\n",
        "**Bitte beachten**: Der Rückgabewert ist nicht, wie man vielleicht erwarten sollte, ein String (\"ready\" oder \"set\" oder \"go\"), sondern ein Generatorobjekt, das mit Hilfe einer for-Schleife \"abgearbeitet\" wird:"
      ],
      "metadata": {
        "id": "xVUtUU0eSV00"
      }
    },
    {
      "cell_type": "code",
      "source": [
        "starter()"
      ],
      "metadata": {
        "colab": {
          "base_uri": "https://localhost:8080/"
        },
        "id": "srxxMjikOyHs",
        "outputId": "8a1bbcae-0d68-4eef-cd71-ddf132dc40d7"
      },
      "execution_count": 125,
      "outputs": [
        {
          "output_type": "execute_result",
          "data": {
            "text/plain": [
              "<generator object starter at 0x7cc7b3ff8d60>"
            ]
          },
          "metadata": {},
          "execution_count": 125
        }
      ]
    },
    {
      "cell_type": "code",
      "source": [
        "for cmd in starter():\n",
        "  print(cmd)"
      ],
      "metadata": {
        "colab": {
          "base_uri": "https://localhost:8080/"
        },
        "id": "PUeaXjneSYO6",
        "outputId": "82442130-4f9e-4588-80bb-4228f83c1115"
      },
      "execution_count": 134,
      "outputs": [
        {
          "output_type": "stream",
          "name": "stdout",
          "text": [
            "ready\n",
            "set\n",
            "go\n"
          ]
        }
      ]
    },
    {
      "cell_type": "markdown",
      "source": [
        "Soviel für heute. Weiterhin **viel Spaß mit Python**."
      ],
      "metadata": {
        "id": "K28OEcBTTmqK"
      }
    }
  ]
}