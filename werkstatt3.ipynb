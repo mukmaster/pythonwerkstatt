{
  "nbformat": 4,
  "nbformat_minor": 0,
  "metadata": {
    "colab": {
      "provenance": [],
      "authorship_tag": "ABX9TyMIftzkwJwUdQ2lEnZYN+KH",
      "include_colab_link": true
    },
    "kernelspec": {
      "name": "python3",
      "display_name": "Python 3"
    },
    "language_info": {
      "name": "python"
    }
  },
  "cells": [
    {
      "cell_type": "markdown",
      "metadata": {
        "id": "view-in-github",
        "colab_type": "text"
      },
      "source": [
        "<a href=\"https://colab.research.google.com/github/mukmaster/pythonwerkstatt/blob/main/werkstatt3.ipynb\" target=\"_parent\"><img src=\"https://colab.research.google.com/assets/colab-badge.svg\" alt=\"Open In Colab\"/></a>"
      ]
    },
    {
      "cell_type": "markdown",
      "source": [
        "# Python-Programmierwerkstatt Woche 3 (8.11.2023)"
      ],
      "metadata": {
        "id": "hjk9Xfi_yMRx"
      }
    },
    {
      "cell_type": "markdown",
      "source": [
        "## Funktionen in Python\n",
        "Beispiel: Quadratzahl berechnen.\n",
        "Eine Funktion mit einem Parameter. Das Ergebnis wird mit return zurückgegeben."
      ],
      "metadata": {
        "id": "l7sn2pLVhtg3"
      }
    },
    {
      "cell_type": "code",
      "execution_count": null,
      "metadata": {
        "id": "fFEXcRuZyAbS"
      },
      "outputs": [],
      "source": [
        "def quadrat(n):\n",
        "  return n*n"
      ]
    },
    {
      "cell_type": "code",
      "source": [
        "quadrat(5)"
      ],
      "metadata": {
        "colab": {
          "base_uri": "https://localhost:8080/"
        },
        "id": "pNkBFccJDxul",
        "outputId": "72fd1fb6-8556-4b70-e30a-bceeed064274"
      },
      "execution_count": null,
      "outputs": [
        {
          "output_type": "execute_result",
          "data": {
            "text/plain": [
              "25"
            ]
          },
          "metadata": {},
          "execution_count": 3
        }
      ]
    },
    {
      "cell_type": "code",
      "source": [
        "quadrat(12345)"
      ],
      "metadata": {
        "colab": {
          "base_uri": "https://localhost:8080/"
        },
        "id": "DbU3nVR6D5s_",
        "outputId": "c7a185f5-3b90-4a0b-a6be-cbb733cd9395"
      },
      "execution_count": null,
      "outputs": [
        {
          "output_type": "execute_result",
          "data": {
            "text/plain": [
              "152399025"
            ]
          },
          "metadata": {},
          "execution_count": 4
        }
      ]
    },
    {
      "cell_type": "markdown",
      "source": [
        "Beispiel: Summe aus a und b berechnen. Eine Funktion mit zwei Parametern."
      ],
      "metadata": {
        "id": "IpK6VeXkrPhd"
      }
    },
    {
      "cell_type": "code",
      "source": [
        "def summe(a,b):\n",
        "  return a+b"
      ],
      "metadata": {
        "id": "_hduZ2pWD9yD"
      },
      "execution_count": null,
      "outputs": []
    },
    {
      "cell_type": "code",
      "source": [
        "summe(3,4)"
      ],
      "metadata": {
        "colab": {
          "base_uri": "https://localhost:8080/"
        },
        "id": "tPBBYyFYEQVG",
        "outputId": "adbd6cc0-4f92-4c11-bdac-ec9b6ce12417"
      },
      "execution_count": null,
      "outputs": [
        {
          "output_type": "execute_result",
          "data": {
            "text/plain": [
              "7"
            ]
          },
          "metadata": {},
          "execution_count": 7
        }
      ]
    },
    {
      "cell_type": "markdown",
      "source": [
        "Beispiel: Der Returnwert der Summe als Parameter der Quadratfunktion"
      ],
      "metadata": {
        "id": "bZXB7EcYtl0V"
      }
    },
    {
      "cell_type": "code",
      "source": [
        "quadrat(summe(4,5))"
      ],
      "metadata": {
        "colab": {
          "base_uri": "https://localhost:8080/"
        },
        "id": "6KN1KecWESRJ",
        "outputId": "6efd5541-1c25-42a8-959a-116440b3f810"
      },
      "execution_count": null,
      "outputs": [
        {
          "output_type": "execute_result",
          "data": {
            "text/plain": [
              "81"
            ]
          },
          "metadata": {},
          "execution_count": 8
        }
      ]
    },
    {
      "cell_type": "markdown",
      "source": [
        "# return oder yield?\n",
        "**return** beendet die Funktion und liefert (optional) ein Ergebnis zurück (Returnwert)\n",
        "\n",
        "**yield** liefert nicht ein einzelnes Ergebnis, sondern einen Generator, mit dessen Hilfe die Ergebnisse nacheinander abgerufen werden können."
      ],
      "metadata": {
        "id": "vJGkhnV4ErSV"
      }
    },
    {
      "cell_type": "markdown",
      "source": [
        "**Beispiel: Startsequenz als Funktion, einmal mit return und einmal mit yield**\n",
        "\n",
        "Beim Start werden drei Zustände durchlaufen: \"ready\", \"set\", \"go\"\n"
      ],
      "metadata": {
        "id": "txyhpqXoFE4l"
      }
    },
    {
      "cell_type": "markdown",
      "source": [
        "**Versuch 1 mit return:** Im Rumpf der Funktion wird eine Variable 'phase' zum Hochzählen genutzt."
      ],
      "metadata": {
        "id": "Y5J7mouQufSs"
      }
    },
    {
      "cell_type": "code",
      "source": [
        "def seq1():\n",
        "  phase = 1\n",
        "  if phase==1:\n",
        "    phase=2\n",
        "    return \"ready\"\n",
        "  elif phase==2:\n",
        "    phase=3\n",
        "    return \"set\"\n",
        "  elif phase==3:\n",
        "    phase=1\n",
        "    return \"go\"\n",
        "  else:\n",
        "    return \"Fehler in der Sequenz\"\n",
        "\n",
        "print(seq1())\n",
        "print(seq1())\n",
        "print(seq1())"
      ],
      "metadata": {
        "id": "VucI9nCqFUmd",
        "colab": {
          "base_uri": "https://localhost:8080/"
        },
        "outputId": "ea89723c-9be1-42fc-8ba9-392b48d38098"
      },
      "execution_count": 2,
      "outputs": [
        {
          "output_type": "stream",
          "name": "stdout",
          "text": [
            "ready\n",
            "ready\n",
            "ready\n"
          ]
        }
      ]
    },
    {
      "cell_type": "markdown",
      "source": [
        "**Problem:** Die Variable 'phase' darf nicht im Rumpf der Funktion initialisiert werden, sonst startet jeder Aufruf von seq1() immer wieder neu."
      ],
      "metadata": {
        "id": "f3njrKSvvGIe"
      }
    },
    {
      "cell_type": "markdown",
      "source": [
        "**Versuch 2 mit return:** Die Variable 'phase' wird außerhalb der Funktion initialisiert und innerhalb der Funktion mit 'global' verwendet."
      ],
      "metadata": {
        "id": "_TqHKBlnvdVs"
      }
    },
    {
      "cell_type": "code",
      "source": [
        "seq1()"
      ],
      "metadata": {
        "colab": {
          "base_uri": "https://localhost:8080/",
          "height": 36
        },
        "id": "QBmlNWzqGVQg",
        "outputId": "dc888732-5766-4a7d-87a9-6d3fff6b2e31"
      },
      "execution_count": null,
      "outputs": [
        {
          "output_type": "execute_result",
          "data": {
            "text/plain": [
              "'ready'"
            ],
            "application/vnd.google.colaboratory.intrinsic+json": {
              "type": "string"
            }
          },
          "metadata": {},
          "execution_count": 16
        }
      ]
    },
    {
      "cell_type": "code",
      "source": [
        "phase = 1\n",
        "\n",
        "def seq2():\n",
        "  # global heißt: Verwende eine Variable, die außerhalb der Funktion (also 'global') definiert wurde\n",
        "  global phase\n",
        "  if phase==1:\n",
        "    phase=2\n",
        "    return \"ready\"\n",
        "  elif phase==2:\n",
        "    phase=3\n",
        "    return \"set\"\n",
        "  elif phase==3:\n",
        "    phase=1\n",
        "    return \"go\"\n",
        "  else:\n",
        "    return \"Fehler in der Sequenz\"\n",
        "\n",
        "print(seq2())\n",
        "print(seq2())\n",
        "print(seq2())\n",
        "print(seq2())\n"
      ],
      "metadata": {
        "colab": {
          "base_uri": "https://localhost:8080/"
        },
        "id": "Kmehn1WIu4bD",
        "outputId": "015d9a24-b289-4d5a-d739-5a48891676b0"
      },
      "execution_count": 5,
      "outputs": [
        {
          "output_type": "stream",
          "name": "stdout",
          "text": [
            "ready\n",
            "set\n",
            "go\n",
            "ready\n"
          ]
        }
      ]
    },
    {
      "cell_type": "markdown",
      "source": [
        "Das funktioniert wie gewünscht.\n",
        "\n",
        "**Nachteil:** Globale Variablen sind unfein - jeder kann von überall darauf zugreifen und damit die Ergebnisse der Funktion seq2 verändern."
      ],
      "metadata": {
        "id": "G7vYRkERv_KT"
      }
    },
    {
      "cell_type": "markdown",
      "source": [
        "**Neuer Versuch mit yield:**  \n"
      ],
      "metadata": {
        "id": "jgug3rn-wV3Q"
      }
    },
    {
      "cell_type": "code",
      "source": [
        "def seq3():\n",
        "  for elem in [\"ready\",\"set\",\"go\"]:\n",
        "    yield elem\n",
        "\n",
        "result = seq3()\n",
        "print(result)"
      ],
      "metadata": {
        "colab": {
          "base_uri": "https://localhost:8080/"
        },
        "id": "Cv17F2BvxDb7",
        "outputId": "d5556c07-6653-4ad5-ca3e-7b386db11d9c"
      },
      "execution_count": 24,
      "outputs": [
        {
          "output_type": "stream",
          "name": "stdout",
          "text": [
            "<generator object seq3 at 0x7d19e2cdcc80>\n"
          ]
        }
      ]
    },
    {
      "cell_type": "markdown",
      "source": [
        "yield in Funktion seq3 führt dazu, dass als Ergebniswert ein Generator-Objekt zurückgeliefert wird. Mit Hilfe dieses Generators und der next()-Funktion können die einzelnen Elemente abgerufen werden."
      ],
      "metadata": {
        "id": "zXbFHyxq3Isd"
      }
    },
    {
      "cell_type": "code",
      "source": [
        "print(next(result))\n",
        "print(next(result))\n",
        "print(next(result))"
      ],
      "metadata": {
        "colab": {
          "base_uri": "https://localhost:8080/"
        },
        "id": "HAuQazu0xTd7",
        "outputId": "aad1b848-de9b-4d5e-97cd-d93380c99495"
      },
      "execution_count": 25,
      "outputs": [
        {
          "output_type": "stream",
          "name": "stdout",
          "text": [
            "ready\n",
            "set\n",
            "go\n"
          ]
        }
      ]
    },
    {
      "cell_type": "markdown",
      "source": [
        "**Noch ein Beispiel mit yield:** Diesmal erzeugen wir in der Funktion die Quadratzahlen von 1 bis n."
      ],
      "metadata": {
        "id": "ntYQeJbE4xw1"
      }
    },
    {
      "cell_type": "code",
      "source": [
        "def quad(n):\n",
        "  for i in range(1,n):\n",
        "    yield i*i"
      ],
      "metadata": {
        "id": "TxOhp9xZ31e7"
      },
      "execution_count": 35,
      "outputs": []
    },
    {
      "cell_type": "code",
      "source": [
        "quadratzahlen = quad(100)\n",
        "\n",
        "print(next(quadratzahlen))\n",
        "print(next(quadratzahlen))\n",
        "print(next(quadratzahlen))\n",
        "print(next(quadratzahlen))\n",
        "print(next(quadratzahlen))\n",
        "print(next(quadratzahlen))\n",
        "print('usw')"
      ],
      "metadata": {
        "colab": {
          "base_uri": "https://localhost:8080/"
        },
        "id": "RbmL00uf5pAS",
        "outputId": "91c7dbb0-9dab-4b4d-ddc6-2981bc33f60f"
      },
      "execution_count": 38,
      "outputs": [
        {
          "output_type": "stream",
          "name": "stdout",
          "text": [
            "1\n",
            "4\n",
            "9\n",
            "16\n",
            "25\n",
            "36\n",
            "usw\n"
          ]
        }
      ]
    },
    {
      "cell_type": "markdown",
      "source": [
        "**Erklärung:** Die Funktion quad verwendet die range() Funktion, um die Liste der Zahlen von 1 bis n zu erzeugen. In der for-Schleife werden die Quadratzahlen berechnet, aber nicht als einzelne Werte, sondern als Generatorobjekt zurückgegeben."
      ],
      "metadata": {
        "id": "7QNMUk817Di2"
      }
    },
    {
      "cell_type": "code",
      "source": [],
      "metadata": {
        "id": "0sFfTiPB7d6p"
      },
      "execution_count": null,
      "outputs": []
    }
  ]
}